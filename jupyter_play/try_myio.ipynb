{
 "cells": [
  {
   "cell_type": "markdown",
   "metadata": {},
   "source": [
    "Trying myio, to read text, rationales, etc"
   ]
  },
  {
   "cell_type": "code",
   "execution_count": 2,
   "metadata": {},
   "outputs": [
    {
     "name": "stdout",
     "output_type": "stream",
     "text": [
      "70000 examples loaded from ../data/reviews.aspect1.train.txt.gz\n",
      "\n",
      "max text length: 1145\n",
      "\n"
     ]
    }
   ],
   "source": [
    "import myio\n",
    "\n",
    "train = '../data/reviews.aspect1.train.txt.gz'\n",
    "train_x, train_y = myio.read_annotations(train)\n"
   ]
  },
  {
   "cell_type": "code",
   "execution_count": 4,
   "metadata": {},
   "outputs": [
    {
     "name": "stdout",
     "output_type": "stream",
     "text": [
      "len(train_x) 70000\n",
      "train_x[0] ['canning', 'craft', 'brew', '-', 'i', \"'m\", 'a', 'fan', '.', 'accessability', '.', 'you', 'would', 'think', 'it', 'would', 'bring', 'the', 'prices', 'down', 'but', 'thats', 'okay', 'i', 'guess', '.', 'from', 'can', 'to', 'pint', 'glass', 'a', ':', 'pours', 'a', 'darker', 'caramel', 'color', 'pale', 'with', 'some', 'orange', 'tints', 'to', 'it', '.', 'massive', 'khaki', 'tan', 'head', 'due', 'to', 'bad', 'pour', 'on', 'my', 'part', 'but', 'sticky', 'icky', 'lacing', 'fo', \"'\", 'sure', '!', 's', ':', 'instant', 'pop', 'of', 'the', 'top', 'is', 'burst', 'of', 'sweet', 'mango', 'and', 'tangerine', 'aromas', '.', 'candied', 'orange', 'rinds', '.', 'is', 'this', 'a', 'friggin', 'orange', 'soda', '?', 'i', 'cant', 'get', 'over', 'the', 'smells', 'of', 'citrus', 'oils', 'here', '.', 'best', 'fruity', 'and', 'floral', 'nose', 'in', 'an', 'ipa', 'i', 'have', 'come', 'across', 'in', 'a', 'while', '.', 'better', 'than', 'flower', 'power', 'maybe', '.', 't', ':', 'taste', 'is', 'intense', 'hop', 'bitterness', 'that', 'is', 'just', 'danky', 'hops', ',', 'resiny', 'pine', ',', 'and', 'blasts', 'of', 'citrus', '.', 'grassy', 'and', 'sassy', '.', 'i', 'love', 'it', '!', 'malts', 'hardly', 'detectable', 'at', 'first', 'but', 'the', 'hops', 'do', 'settle', 'down', 'fairly', 'quickly', 'and', 'give', 'way', 'to', 'this', 'sweet', 'caramelly', 'malt', 'goodness', '.', 'soft', 'caramel', 'and', 'sweet', 'cracker', '.', 'nice', 'bittery', 'dry', 'finish', '.', 'delciousness', 'out', 'of', 'a', 'can', '.', 'm', ':', 'sticky', 'resinous', 'hops', 'do', 'coat', 'the', 'tongue', 'but', 'overall', 'pretty', 'creamy', 'in', 'texture', 'and', 'peppers', 'out', 'the', 'palate', 'on', 'the', 'finish', '.', 'd', ':', 'pretty', 'damn', 'nice', 'ipa', 'out', 'of', 'a', 'can', 'i', 'must', 'say', '.', 'snowboarding', ',', 'camping', ',', 'fishing', '...', 'they', 'all', 'just', 'got', 'even', 'better', '.', 'more', 'please', '.', 'all', 'i', 'got', 'to', 'say', 'is', 'i', 'need', 'to', 'get', 'up', 'to', 'oregon', '.']\n"
     ]
    }
   ],
   "source": [
    "print('len(train_x)', len(train_x))\n",
    "print('train_x[0]', train_x[0])"
   ]
  },
  {
   "cell_type": "code",
   "execution_count": 14,
   "metadata": {},
   "outputs": [
    {
     "name": "stdout",
     "output_type": "stream",
     "text": [
      "7.6231701374053955\n"
     ]
    }
   ],
   "source": [
    "import pickle\n",
    "import torch\n",
    "import time\n",
    "\n",
    "start = time.time()\n",
    "with open('../data/reviews.aspect1.train.emb', 'rb') as f:\n",
    "    d = pickle.load(f)\n",
    "print(time.time() - start)"
   ]
  },
  {
   "cell_type": "code",
   "execution_count": 13,
   "metadata": {},
   "outputs": [
    {
     "name": "stdout",
     "output_type": "stream",
     "text": [
      "d.keys() dict_keys(['embedding', 'idx_by_word', 'words', 'x', 'y', 'x_idxes'])\n",
      "len(d[\"words\"]) 96884\n",
      "96884\n",
      "torch.Size([96885, 200])\n",
      "96884\n"
     ]
    }
   ],
   "source": [
    "print('d.keys()', d.keys())\n",
    "print('len(d[\"words\"])', len(d['words']))\n",
    "print(len(d['words']))\n",
    "print(d['embedding'].shape)\n",
    "print(len(d['idx_by_word']))\n",
    "# print(d['y'])"
   ]
  },
  {
   "cell_type": "code",
   "execution_count": 1,
   "metadata": {
    "scrolled": false
   },
   "outputs": [
    {
     "name": "stdout",
     "output_type": "stream",
     "text": [
      "y_aspect.shape torch.Size([5])\n",
      "y_aspect[:5] \n",
      " 0.8000\n",
      " 0.5000\n",
      " 1.0000\n",
      " 0.9000\n",
      " 0.3000\n",
      "[torch.FloatTensor of size 5]\n",
      "\n",
      "num training examples 5\n",
      "lengths [111, 169, 201]\n",
      "max_len 201\n",
      "bx.shape torch.Size([201, 3])\n",
      "lengths [256, 256]\n",
      "max_len 256\n",
      "bx.shape torch.Size([256, 2])\n"
     ]
    }
   ],
   "source": [
    "# from train import rand_uniform\n",
    "import myio\n",
    "import pickle\n",
    "import torch\n",
    "\n",
    "with open('../data/reviews.aspect1.train.emb', 'rb') as f:\n",
    "    d = pickle.load(f)\n",
    "\n",
    "max_train_examples = 5\n",
    "aspect_idx = 0\n",
    "batch_size = 3\n",
    "\n",
    "embedding = d['embedding']\n",
    "y = d['y']\n",
    "# print('y.shape', y.shape)\n",
    "# print('y[0]', y[0])\n",
    "x_idxes = d['x_idxes']\n",
    "x = d['x']\n",
    "idx_by_word = d['idx_by_word']\n",
    "if max_train_examples > 0:\n",
    "    x_idxes = x_idxes[:max_train_examples]\n",
    "    y = y[:max_train_examples]\n",
    "    x = x[:max_train_examples]\n",
    "N = len(x_idxes)\n",
    "y_aspect = torch.zeros(N)\n",
    "for n, yv in enumerate(y):\n",
    "    y_aspect[n] = yv[aspect_idx].item()\n",
    "print('y_aspect.shape', y_aspect.shape)\n",
    "print('y_aspect[:5]', y_aspect[:5])\n",
    "print('num training examples', len(x_idxes))\n",
    "# handle unk\n",
    "unk_idx = idx_by_word['<unk>']\n",
    "num_hidden = embedding.shape[1]\n",
    "\n",
    "# these numbers, ie -0.05 to 0.05 come from\n",
    "# https://github.com/taolei87/rcnn/blob/master/code/nn/initialization.py#L79\n",
    "# embedding[unk_idx] = rand_uniform((num_hidden,), -0.05, 0.05)\n",
    "# model = Encoder(embeddings=embedding, num_layers=2)\n",
    "pad_idx = idx_by_word['<pad>']\n",
    "batches_x, batches_y = myio.create_batches(x=x_idxes, y=y_aspect, batch_size=batch_size, padding_id=pad_idx)\n"
   ]
  },
  {
   "cell_type": "code",
   "execution_count": 2,
   "metadata": {
    "scrolled": false
   },
   "outputs": [
    {
     "name": "stdout",
     "output_type": "stream",
     "text": [
      "type(batches_x) <class 'list'>\n",
      "len(batches_x) 2\n",
      "len(batches_x[0] 256\n",
      "type(batches_x[0] <class 'torch.LongTensor'>\n",
      "batches_x[0].shape torch.Size([256, 2])\n",
      "batches_x[1].shape torch.Size([201, 3])\n",
      "batches_y[0] \n",
      " 0.8000\n",
      " 1.0000\n",
      "[torch.FloatTensor of size 2]\n",
      "\n",
      "type(batches_y[0]) <class 'torch.FloatTensor'>\n",
      "batches_y[0].shape torch.Size([2])\n",
      "batches_y[1].shape torch.Size([3])\n"
     ]
    }
   ],
   "source": [
    "print('type(batches_x)', type(batches_x))\n",
    "print('len(batches_x)', len(batches_x))\n",
    "print('len(batches_x[0]', len(batches_x[0]))\n",
    "print('type(batches_x[0]', type(batches_x[0]))\n",
    "print('batches_x[0].shape', batches_x[0].shape)\n",
    "# print('batches_x[0]', batches_x[0])\n",
    "print('batches_x[1].shape', batches_x[1].shape)\n",
    "\n",
    "print('batches_y[0]', batches_y[0])\n",
    "print('type(batches_y[0])', type(batches_y[0]))\n",
    "print('batches_y[0].shape', batches_y[0].shape)\n",
    "print('batches_y[1].shape', batches_y[1].shape)"
   ]
  }
 ],
 "metadata": {
  "kernelspec": {
   "display_name": "Python 3",
   "language": "python",
   "name": "python3"
  },
  "language_info": {
   "codemirror_mode": {
    "name": "ipython",
    "version": 3
   },
   "file_extension": ".py",
   "mimetype": "text/x-python",
   "name": "python",
   "nbconvert_exporter": "python",
   "pygments_lexer": "ipython3",
   "version": "3.6.2"
  }
 },
 "nbformat": 4,
 "nbformat_minor": 2
}
